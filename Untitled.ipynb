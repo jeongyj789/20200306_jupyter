{
 "cells": [
  {
   "cell_type": "code",
   "execution_count": 104,
   "metadata": {
    "scrolled": true
   },
   "outputs": [],
   "source": [
    "scoville =  [1, 2, 3, 9, 10, 12]\n",
    "K = 7"
   ]
  },
  {
   "cell_type": "code",
   "execution_count": 88,
   "metadata": {},
   "outputs": [
    {
     "data": {
      "text/plain": [
       "2"
      ]
     },
     "execution_count": 88,
     "metadata": {},
     "output_type": "execute_result"
    }
   ],
   "source": [
    "def solution(scoville, k):\n",
    "    mix_cnt = 0\n",
    "    while min(scoville) < k:\n",
    "        scoville.sort()\n",
    "        try:\n",
    "            scoville.append(scoville.pop(0) + (scoville.pop(0) * 2))\n",
    "        except IndexError:\n",
    "            return -1\n",
    "        mix_cnt += 1\n",
    "\n",
    "    return mix_cnt\n",
    "\n",
    "scoville = [1, 2, 3, 9, 10, 12]\n",
    "K = 7\n",
    "solution(scoville, K)"
   ]
  },
  {
   "cell_type": "code",
   "execution_count": 74,
   "metadata": {},
   "outputs": [
    {
     "name": "stdout",
     "output_type": "stream",
     "text": [
      "5\n",
      "[3, 9, 10, 12, 5]\n",
      "13\n",
      "[9, 10, 12, 13]\n",
      "정답 2\n"
     ]
    }
   ],
   "source": [
    "scoville = [1, 2, 3, 9, 10, 12]\n",
    "K = 7\n",
    "answer = 0\n",
    "\n",
    "while True :\n",
    "    \n",
    "    if min(scoville) < K :\n",
    "        \n",
    "        scoville.sort() # 정렬\n",
    "        new = scoville[0]+(scoville[1]*2) # 새로운 값 연산\n",
    "        print(new)\n",
    "        scoville.pop(0) # 최소값 제거\n",
    "        scoville.pop(0) # 그 다음 값 제거\n",
    "        scoville.append(new) # 새로운 값 추가\n",
    "        print(scoville)\n",
    "        answer+=1\n",
    "    \n",
    "    else :\n",
    "        break;\n",
    "        \n",
    "print(\"정답\", answer)\n",
    "        "
   ]
  },
  {
   "cell_type": "code",
   "execution_count": 108,
   "metadata": {},
   "outputs": [],
   "source": [
    " import heapq\n",
    "\n",
    "\n",
    "def solution(scoville, k):\n",
    "    heap = []\n",
    "    for num in scoville:\n",
    "        heapq.heappush(heap, num)\n",
    "\n",
    "    mix_cnt = 0\n",
    "    while heap[0] < k:\n",
    "        try:\n",
    "            heapq.heappush(heap, heapq.heappop(heap) + (heapq.heappop(heap) * 2))\n",
    "        except IndexError:\n",
    "            return -1\n",
    "    mix_cnt += 1\n",
    "\n",
    "    return mix_cnt"
   ]
  }
 ],
 "metadata": {
  "kernelspec": {
   "display_name": "Python 3",
   "language": "python",
   "name": "python3"
  },
  "language_info": {
   "codemirror_mode": {
    "name": "ipython",
    "version": 3
   },
   "file_extension": ".py",
   "mimetype": "text/x-python",
   "name": "python",
   "nbconvert_exporter": "python",
   "pygments_lexer": "ipython3",
   "version": "3.7.4"
  }
 },
 "nbformat": 4,
 "nbformat_minor": 2
}
