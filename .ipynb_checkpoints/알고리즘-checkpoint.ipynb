{
 "cells": [
  {
   "cell_type": "code",
   "execution_count": 104,
   "metadata": {
    "scrolled": true
   },
   "outputs": [],
   "source": [
    "scoville =  [1, 2, 3, 9, 10, 12]\n",
    "K = 7"
   ]
  },
  {
   "cell_type": "code",
   "execution_count": 88,
   "metadata": {},
   "outputs": [
    {
     "data": {
      "text/plain": [
       "2"
      ]
     },
     "execution_count": 88,
     "metadata": {},
     "output_type": "execute_result"
    }
   ],
   "source": [
    "def solution(scoville, k):\n",
    "    mix_cnt = 0\n",
    "    while min(scoville) < k:\n",
    "        scoville.sort()\n",
    "        try:\n",
    "            scoville.append(scoville.pop(0) + (scoville.pop(0) * 2))\n",
    "        except IndexError:\n",
    "            return -1\n",
    "        mix_cnt += 1\n",
    "\n",
    "    return mix_cnt\n",
    "\n",
    "scoville = [1, 2, 3, 9, 10, 12]\n",
    "K = 7\n",
    "solution(scoville, K)"
   ]
  },
  {
   "cell_type": "code",
   "execution_count": 108,
   "metadata": {},
   "outputs": [],
   "source": [
    "import heapq # 힙큐 \n",
    "\n",
    "def solution(scoville, k):\n",
    "    heap = [] # 힙 배열 생성\n",
    "    for num in scoville: \n",
    "        heapq.heappush(heap, num)\n",
    "\n",
    "    mix_cnt = 0\n",
    "    while heap[0] < k:\n",
    "        try:\n",
    "            heapq.heappush(heap, heapq.heappop(heap) + (heapq.heappop(heap) * 2))\n",
    "        except IndexError:\n",
    "            return -1\n",
    "    mix_cnt += 1\n",
    "\n",
    "    return mix_cnt"
   ]
  },
  {
   "cell_type": "markdown",
   "metadata": {},
   "source": [
    "# 정렬"
   ]
  },
  {
   "cell_type": "code",
   "execution_count": 54,
   "metadata": {},
   "outputs": [],
   "source": [
    "def solution(array, commands):\n",
    "    answer = [] # 배열정의\n",
    "    for temp in range(len(commands)): # len(commands) = 3 temp=0,1,2\n",
    "        k = commands[temp][2] # k 정의\n",
    "\n",
    "        new_array = array[commands[temp][0]-1:commands[temp][1]] # new_array 정의\n",
    "        new_array.sort() # new_array 정렬 (오름차순)\n",
    "\n",
    "        key = new_array[k-1] # k번째 값 key 객체에 넣기 \n",
    "\n",
    "        answer.append(key) \n",
    "\n",
    "    return answer\n",
    "\n",
    "array = [1, 5, 2, 6, 3, 7, 4]\n",
    "commands = [[2, 5, 3], [4, 4, 1], [1, 7, 3]]\n",
    "solution(array, commands)"
   ]
  },
  {
   "cell_type": "markdown",
   "metadata": {},
   "source": [
    "# 모범답안"
   ]
  },
  {
   "cell_type": "code",
   "execution_count": null,
   "metadata": {},
   "outputs": [],
   "source": [
    "def solution(array, commands):\n",
    "    return list(map(lambda x:sorted(array[x[0]-1:x[1]])[x[2]-1], commands))"
   ]
  },
  {
   "cell_type": "markdown",
   "metadata": {},
   "source": [
    "# 완전탐색"
   ]
  },
  {
   "cell_type": "code",
   "execution_count": 236,
   "metadata": {},
   "outputs": [
    {
     "name": "stdout",
     "output_type": "stream",
     "text": [
      "{1: 5, 2: 0, 3: 0}\n"
     ]
    },
    {
     "data": {
      "text/plain": [
       "[1]"
      ]
     },
     "execution_count": 236,
     "metadata": {},
     "output_type": "execute_result"
    }
   ],
   "source": [
    "def solution(answers):\n",
    "    \n",
    "    array = [[1,2,3,4,5],[2,1,2,3,2,4,2,5],[3,3,1,1,2,2,4,4,5,5]]\n",
    "    dic = {}\n",
    "    answer=[]\n",
    "    \n",
    "    for idx, num in enumerate(array):\n",
    "        div = len(num)\n",
    "        cor = 0\n",
    "        for idx2,i in enumerate(answers):\n",
    "            if i == array[idx][idx2%div]:\n",
    "                cor +=1\n",
    "            else:\n",
    "                continue;\n",
    "        dic.update({(idx+1):cor}) # 3회 성공, cor과 idx 값을 바꾸면 중복 발생(key값 역할)\n",
    "\n",
    "        # 딕셔너리부    \n",
    "    for temp in dic.items():\n",
    "        if temp[1] == max(dic.values()):\n",
    "            answer.append(temp[0])\n",
    "        else:continue\n",
    "    answer.sort()\n",
    "    return answer\n",
    "        \n",
    "\n",
    "answers=[1,2,3,4,5]\n",
    "solution(answers)"
   ]
  }
 ],
 "metadata": {
  "kernelspec": {
   "display_name": "Python 3",
   "language": "python",
   "name": "python3"
  },
  "language_info": {
   "codemirror_mode": {
    "name": "ipython",
    "version": 3
   },
   "file_extension": ".py",
   "mimetype": "text/x-python",
   "name": "python",
   "nbconvert_exporter": "python",
   "pygments_lexer": "ipython3",
   "version": "3.6.8"
  }
 },
 "nbformat": 4,
 "nbformat_minor": 2
}
